{
    "metadata": {
        "kernelspec": {
            "name": "SQL",
            "display_name": "SQL",
            "language": "sql"
        },
        "language_info": {
            "name": "sql",
            "version": ""
        }
    },
    "nbformat_minor": 2,
    "nbformat": 4,
    "cells": [
        {
            "cell_type": "code",
            "source": [
                "CREATE DATABASE lecture_2\r\n",
                "\r\n",
                "CREATE SCHEMA person\r\n",
                "\r\n",
                "CREATE TABLE person.person (id BIGINT PRIMARY KEY, \"name\" VARCHAR(128), surname VARCHAR(128) )"
            ],
            "metadata": {
                "azdata_cell_guid": "25c388f3-5ed1-4b87-adc7-7e1de3541596",
                "language": "sql"
            },
            "outputs": [],
            "execution_count": null
        },
        {
            "cell_type": "code",
            "source": [
                "SELECT * FROM person.person"
            ],
            "metadata": {
                "azdata_cell_guid": "26c748b5-cbaa-44ea-b11f-11c54cdd0d52",
                "language": "sql"
            },
            "outputs": [
                {
                    "output_type": "display_data",
                    "data": {
                        "text/html": "(0 row(s) affected)"
                    },
                    "metadata": {}
                },
                {
                    "output_type": "display_data",
                    "data": {
                        "text/html": "Total execution time: 00:00:00.003"
                    },
                    "metadata": {}
                },
                {
                    "output_type": "execute_result",
                    "execution_count": 1,
                    "data": {
                        "application/vnd.dataresource+json": {
                            "schema": {
                                "fields": [
                                    {
                                        "name": "id"
                                    },
                                    {
                                        "name": "name"
                                    },
                                    {
                                        "name": "surname"
                                    }
                                ]
                            },
                            "data": []
                        },
                        "text/html": "<table><tr><th>id</th><th>name</th><th>surname</th></tr></table>"
                    },
                    "metadata": {}
                }
            ],
            "execution_count": 1
        },
        {
            "cell_type": "code",
            "source": [
                "INSERT INTO person.person(id, name, surname)\r\n",
                "VALUES (1, 'John', 'Smith');\r\n",
                "\r\n",
                "INSERT INTO person.person(id, name, surname)\r\n",
                "VALUES (3, 'Simon', 'White');\r\n",
                ""
            ],
            "metadata": {
                "language": "sql",
                "azdata_cell_guid": "5ee2e550-8c7d-4055-9df2-7b277de0cdb8"
            },
            "outputs": [
                {
                    "output_type": "display_data",
                    "data": {
                        "text/html": "Commands completed successfully"
                    },
                    "metadata": {}
                },
                {
                    "output_type": "display_data",
                    "data": {
                        "text/html": "Total execution time: 00:00:00.006"
                    },
                    "metadata": {}
                }
            ],
            "execution_count": 26
        },
        {
            "cell_type": "code",
            "source": [
                "SELECT * \r\n",
                "FROM person.person\r\n",
                "WHERE id = 4\r\n",
                "\r\n",
                "\r\n",
                ""
            ],
            "metadata": {
                "language": "sql",
                "azdata_cell_guid": "fb09612a-9460-4f70-8e4b-a4b4f0e607d8"
            },
            "outputs": [
                {
                    "output_type": "display_data",
                    "data": {
                        "text/html": "(0 row(s) affected)"
                    },
                    "metadata": {}
                },
                {
                    "output_type": "display_data",
                    "data": {
                        "text/html": "Total execution time: 00:00:00.008"
                    },
                    "metadata": {}
                },
                {
                    "output_type": "execute_result",
                    "execution_count": 12,
                    "data": {
                        "application/vnd.dataresource+json": {
                            "schema": {
                                "fields": [
                                    {
                                        "name": "id"
                                    },
                                    {
                                        "name": "name"
                                    },
                                    {
                                        "name": "surname"
                                    }
                                ]
                            },
                            "data": []
                        },
                        "text/html": "<table><tr><th>id</th><th>name</th><th>surname</th></tr></table>"
                    },
                    "metadata": {}
                }
            ],
            "execution_count": 12
        },
        {
            "cell_type": "code",
            "source": [
                "CREATE TABLE person.address (id BIGINT PRIMARY KEY, street VARCHAR(128), house_number int )\r\n",
                ""
            ],
            "metadata": {
                "language": "sql",
                "azdata_cell_guid": "115e32c0-8da5-4cc5-a2e8-c218a95b99d3"
            },
            "outputs": [
                {
                    "output_type": "display_data",
                    "data": {
                        "text/html": "Commands completed successfully"
                    },
                    "metadata": {}
                },
                {
                    "output_type": "display_data",
                    "data": {
                        "text/html": "Total execution time: 00:00:00.010"
                    },
                    "metadata": {}
                }
            ],
            "execution_count": 13
        },
        {
            "cell_type": "code",
            "source": [
                "-- SELECT * \r\n",
                "-- FROM person.address\r\n",
                "\r\n",
                "INSERT INTO person.address (id, street, house_number)\r\n",
                "SELECT 4, 'Pylimo str.', 789\r\n",
                "-- UNION \r\n",
                "-- SELECT 2, 'Antakalnio str.', 45"
            ],
            "metadata": {
                "language": "sql",
                "azdata_cell_guid": "5d8134fb-c2db-4387-bb6f-495b0b3b2ebd"
            },
            "outputs": [
                {
                    "output_type": "display_data",
                    "data": {
                        "text/html": "Commands completed successfully"
                    },
                    "metadata": {}
                },
                {
                    "output_type": "display_data",
                    "data": {
                        "text/html": "Total execution time: 00:00:00.005"
                    },
                    "metadata": {}
                }
            ],
            "execution_count": 27
        },
        {
            "cell_type": "code",
            "source": [
                "SELECT *\r\n",
                "FROM person.person AS p\r\n",
                "CROSS JOIN person.address AS a\r\n",
                "WHERE name IN ('Jack', 'Simon')\r\n",
                "\r\n",
                "-- SELECT * FROM (\r\n",
                "-- SELECT 'Jack' as name\r\n",
                "-- UNION \r\n",
                "-- SELECT 'John' as name\r\n",
                "-- ) AS T\r\n",
                "-- JOIN person.person AS p\r\n",
                "-- INNER JOIN person.address as a\r\n",
                "-- ON a.id = p.id\r\n",
                "-- ON p.name = T.name\r\n",
                "-- WHERE name = 'John' "
            ],
            "metadata": {
                "language": "sql",
                "azdata_cell_guid": "bfcb9e01-026e-4188-8b63-aa33b3abd663"
            },
            "outputs": [
                {
                    "output_type": "display_data",
                    "data": {
                        "text/html": "(6 row(s) affected)"
                    },
                    "metadata": {}
                },
                {
                    "output_type": "display_data",
                    "data": {
                        "text/html": "Total execution time: 00:00:00.002"
                    },
                    "metadata": {}
                },
                {
                    "output_type": "execute_result",
                    "execution_count": 44,
                    "data": {
                        "application/vnd.dataresource+json": {
                            "schema": {
                                "fields": [
                                    {
                                        "name": "id"
                                    },
                                    {
                                        "name": "name"
                                    },
                                    {
                                        "name": "surname"
                                    },
                                    {
                                        "name": "id"
                                    },
                                    {
                                        "name": "street"
                                    },
                                    {
                                        "name": "house_number"
                                    }
                                ]
                            },
                            "data": [
                                {
                                    "id": "1",
                                    "name": "Jack",
                                    "surname": "Black",
                                    "street": "Sauletekio al.",
                                    "house_number": "1"
                                },
                                {
                                    "id": "1",
                                    "name": "Simon",
                                    "surname": "White",
                                    "street": "Sauletekio al.",
                                    "house_number": "1"
                                },
                                {
                                    "id": "2",
                                    "name": "Jack",
                                    "surname": "Black",
                                    "street": "Antakalnio str.",
                                    "house_number": "45"
                                },
                                {
                                    "id": "2",
                                    "name": "Simon",
                                    "surname": "White",
                                    "street": "Antakalnio str.",
                                    "house_number": "45"
                                },
                                {
                                    "id": "4",
                                    "name": "Jack",
                                    "surname": "Black",
                                    "street": "Pylimo str.",
                                    "house_number": "789"
                                },
                                {
                                    "id": "4",
                                    "name": "Simon",
                                    "surname": "White",
                                    "street": "Pylimo str.",
                                    "house_number": "789"
                                }
                            ]
                        },
                        "text/html": "<table><tr><th>id</th><th>name</th><th>surname</th><th>id</th><th>street</th><th>house_number</th></tr><tr><td>2</td><td>Jack</td><td>Black</td><td>1</td><td>Sauletekio al.</td><td>1</td></tr><tr><td>3</td><td>Simon</td><td>White</td><td>1</td><td>Sauletekio al.</td><td>1</td></tr><tr><td>2</td><td>Jack</td><td>Black</td><td>2</td><td>Antakalnio str.</td><td>45</td></tr><tr><td>3</td><td>Simon</td><td>White</td><td>2</td><td>Antakalnio str.</td><td>45</td></tr><tr><td>2</td><td>Jack</td><td>Black</td><td>4</td><td>Pylimo str.</td><td>789</td></tr><tr><td>3</td><td>Simon</td><td>White</td><td>4</td><td>Pylimo str.</td><td>789</td></tr></table>"
                    },
                    "metadata": {}
                }
            ],
            "execution_count": 44
        }
    ]
}